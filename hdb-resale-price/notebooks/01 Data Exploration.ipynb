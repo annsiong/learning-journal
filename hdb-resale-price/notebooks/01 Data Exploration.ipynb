{
 "cells": [
  {
   "cell_type": "markdown",
   "metadata": {},
   "source": [
    "# Import Packages"
   ]
  },
  {
   "cell_type": "code",
   "execution_count": 1,
   "metadata": {},
   "outputs": [],
   "source": [
    "import pandas as pd\n",
    "import sys\n",
    "from pandas_profiling import ProfileReport"
   ]
  },
  {
   "cell_type": "code",
   "execution_count": 2,
   "metadata": {},
   "outputs": [],
   "source": [
    "sys.path.append('..')\n",
    "from src.config import RAW_DIR"
   ]
  },
  {
   "cell_type": "markdown",
   "metadata": {},
   "source": [
    "# Import Data"
   ]
  },
  {
   "cell_type": "code",
   "execution_count": 3,
   "metadata": {},
   "outputs": [
    {
     "name": "stderr",
     "output_type": "stream",
     "text": [
      "/opt/conda/lib/python3.8/site-packages/IPython/core/interactiveshell.py:3146: DtypeWarning: Columns (10) have mixed types.Specify dtype option on import or set low_memory=False.\n",
      "  has_raised = await self.run_ast_nodes(code_ast.body, cell_name,\n"
     ]
    },
    {
     "name": "stdout",
     "output_type": "stream",
     "text": [
      "<class 'pandas.core.frame.DataFrame'>\n",
      "RangeIndex: 831336 entries, 0 to 831335\n",
      "Data columns (total 12 columns):\n",
      " #   Column               Non-Null Count   Dtype         \n",
      "---  ------               --------------   -----         \n",
      " 0   month                831336 non-null  object        \n",
      " 1   town                 831336 non-null  object        \n",
      " 2   flat_type            831336 non-null  object        \n",
      " 3   block                831336 non-null  object        \n",
      " 4   street_name          831336 non-null  object        \n",
      " 5   storey_range         831336 non-null  object        \n",
      " 6   floor_area_sqm       831336 non-null  float64       \n",
      " 7   flat_model           831336 non-null  object        \n",
      " 8   lease_commence_date  831336 non-null  int64         \n",
      " 9   resale_price         831336 non-null  float64       \n",
      " 10  remaining_lease      122282 non-null  object        \n",
      " 11  datetime             831336 non-null  datetime64[ns]\n",
      "dtypes: datetime64[ns](1), float64(2), int64(1), object(8)\n",
      "memory usage: 76.1+ MB\n"
     ]
    }
   ],
   "source": [
    "data = pd.read_csv(f'{RAW_DIR}/hdb_resale_price.csv')\n",
    "data['datetime'] = pd.to_datetime(data['month'])\n",
    "data.info()"
   ]
  },
  {
   "cell_type": "markdown",
   "metadata": {},
   "source": [
    "# Pandas Profiling"
   ]
  },
  {
   "cell_type": "markdown",
   "metadata": {},
   "source": [
    "https://github.com/pandas-profiling/pandas-profiling"
   ]
  },
  {
   "cell_type": "code",
   "execution_count": 4,
   "metadata": {},
   "outputs": [],
   "source": [
    "profile = ProfileReport(data, title=\"Pandas Profiling Report\", explorative=True)"
   ]
  },
  {
   "cell_type": "code",
   "execution_count": 5,
   "metadata": {},
   "outputs": [
    {
     "data": {
      "application/vnd.jupyter.widget-view+json": {
       "model_id": "c48f2f47d5124c80b16401b2e3be5ed6",
       "version_major": 2,
       "version_minor": 0
      },
      "text/plain": [
       "Summarize dataset:   0%|          | 0/25 [00:00<?, ?it/s]"
      ]
     },
     "metadata": {},
     "output_type": "display_data"
    },
    {
     "data": {
      "application/vnd.jupyter.widget-view+json": {
       "model_id": "0c0520897054428fadfa1fed983059c8",
       "version_major": 2,
       "version_minor": 0
      },
      "text/plain": [
       "Generate report structure:   0%|          | 0/1 [00:00<?, ?it/s]"
      ]
     },
     "metadata": {},
     "output_type": "display_data"
    },
    {
     "data": {
      "application/vnd.jupyter.widget-view+json": {
       "model_id": "902c07520eed444e8198819fdce77aae",
       "version_major": 2,
       "version_minor": 0
      },
      "text/plain": [
       "Render HTML:   0%|          | 0/1 [00:00<?, ?it/s]"
      ]
     },
     "metadata": {},
     "output_type": "display_data"
    },
    {
     "data": {
      "application/vnd.jupyter.widget-view+json": {
       "model_id": "6c5e4c8c175d4c0a9a3eac20d18e0c81",
       "version_major": 2,
       "version_minor": 0
      },
      "text/plain": [
       "Export report to file:   0%|          | 0/1 [00:00<?, ?it/s]"
      ]
     },
     "metadata": {},
     "output_type": "display_data"
    }
   ],
   "source": [
    "profile.to_file(\"01 Data Exploration (Report).html\")"
   ]
  },
  {
   "cell_type": "markdown",
   "metadata": {},
   "source": [
    "# Manual Analysis"
   ]
  },
  {
   "cell_type": "markdown",
   "metadata": {},
   "source": [
    "## Town"
   ]
  },
  {
   "cell_type": "code",
   "execution_count": 6,
   "metadata": {},
   "outputs": [
    {
     "data": {
      "text/plain": [
       "TAMPINES           73453\n",
       "YISHUN             63572\n",
       "BEDOK              61656\n",
       "JURONG WEST        60989\n",
       "WOODLANDS          58971\n",
       "ANG MO KIO         48438\n",
       "HOUGANG            45728\n",
       "BUKIT BATOK        40565\n",
       "CHOA CHU KANG      33558\n",
       "BUKIT MERAH        30706\n",
       "PASIR RIS          30450\n",
       "TOA PAYOH          28653\n",
       "QUEENSTOWN         26067\n",
       "CLEMENTI           25893\n",
       "GEYLANG            25803\n",
       "BUKIT PANJANG      24455\n",
       "SENGKANG           24374\n",
       "KALLANG/WHAMPOA    24164\n",
       "JURONG EAST        22962\n",
       "SERANGOON          21223\n",
       "BISHAN             19632\n",
       "PUNGGOL            12763\n",
       "SEMBAWANG          11089\n",
       "MARINE PARADE       7424\n",
       "CENTRAL AREA        6391\n",
       "BUKIT TIMAH         2293\n",
       "LIM CHU KANG          64\n",
       "Name: town, dtype: int64"
      ]
     },
     "execution_count": 6,
     "metadata": {},
     "output_type": "execute_result"
    }
   ],
   "source": [
    "data['town'].value_counts()"
   ]
  },
  {
   "cell_type": "markdown",
   "metadata": {},
   "source": [
    "## Flat Type"
   ]
  },
  {
   "cell_type": "code",
   "execution_count": 7,
   "metadata": {},
   "outputs": [
    {
     "data": {
      "text/plain": [
       "4 ROOM              311296\n",
       "3 ROOM              273597\n",
       "5 ROOM              171666\n",
       "EXECUTIVE            63064\n",
       "2 ROOM                9932\n",
       "1 ROOM                1275\n",
       "MULTI GENERATION       279\n",
       "MULTI-GENERATION       227\n",
       "Name: flat_type, dtype: int64"
      ]
     },
     "execution_count": 7,
     "metadata": {},
     "output_type": "execute_result"
    }
   ],
   "source": [
    "data['flat_type'].value_counts()"
   ]
  },
  {
   "cell_type": "markdown",
   "metadata": {},
   "source": [
    "## Storey Range"
   ]
  },
  {
   "cell_type": "code",
   "execution_count": 8,
   "metadata": {},
   "outputs": [
    {
     "data": {
      "text/plain": [
       "01 TO 03    169822\n",
       "01 TO 05      2700\n",
       "04 TO 06    210848\n",
       "06 TO 10      2474\n",
       "07 TO 09    190114\n",
       "10 TO 12    161060\n",
       "11 TO 15      1259\n",
       "13 TO 15     52644\n",
       "16 TO 18     19672\n",
       "16 TO 20       265\n",
       "19 TO 21      9525\n",
       "21 TO 25        92\n",
       "22 TO 24      6124\n",
       "25 TO 27      2583\n",
       "26 TO 30        39\n",
       "28 TO 30      1079\n",
       "31 TO 33       283\n",
       "31 TO 35         2\n",
       "34 TO 36       279\n",
       "36 TO 40         7\n",
       "37 TO 39       273\n",
       "40 TO 42       138\n",
       "43 TO 45        19\n",
       "46 TO 48        25\n",
       "49 TO 51        10\n",
       "Name: storey_range, dtype: int64"
      ]
     },
     "execution_count": 8,
     "metadata": {},
     "output_type": "execute_result"
    }
   ],
   "source": [
    "data['storey_range'].value_counts().sort_index()"
   ]
  },
  {
   "cell_type": "markdown",
   "metadata": {},
   "source": [
    "## Flat Model"
   ]
  },
  {
   "cell_type": "code",
   "execution_count": 9,
   "metadata": {},
   "outputs": [
    {
     "data": {
      "text/plain": [
       "Model A                   159537\n",
       "Improved                  144989\n",
       "New Generation             99248\n",
       "NEW GENERATION             78898\n",
       "IMPROVED                   73593\n",
       "MODEL A                    70381\n",
       "Premium Apartment          35601\n",
       "Simplified                 30866\n",
       "SIMPLIFIED                 23258\n",
       "Standard                   22599\n",
       "Apartment                  22303\n",
       "STANDARD                   17375\n",
       "Maisonette                 14864\n",
       "MAISONETTE                 12215\n",
       "APARTMENT                   9901\n",
       "Model A2                    9149\n",
       "DBSS                        1725\n",
       "Adjoined flat               1096\n",
       "MODEL A-MAISONETTE           982\n",
       "Model A-Maisonette           912\n",
       "Terrace                      398\n",
       "MULTI GENERATION             279\n",
       "Type S1                      278\n",
       "TERRACE                      247\n",
       "Multi Generation             227\n",
       "Type S2                      136\n",
       "Premium Maisonette            82\n",
       "Improved-Maisonette           70\n",
       "IMPROVED-MAISONETTE           44\n",
       "Premium Apartment Loft        36\n",
       "2-ROOM                        21\n",
       "2-room                        20\n",
       "PREMIUM APARTMENT              6\n",
       "Name: flat_model, dtype: int64"
      ]
     },
     "execution_count": 9,
     "metadata": {},
     "output_type": "execute_result"
    }
   ],
   "source": [
    "data['flat_model'].value_counts()"
   ]
  },
  {
   "cell_type": "code",
   "execution_count": 10,
   "metadata": {},
   "outputs": [
    {
     "data": {
      "text/plain": [
       "MODEL A                   229918\n",
       "IMPROVED                  218582\n",
       "NEW GENERATION            178146\n",
       "SIMPLIFIED                 54124\n",
       "STANDARD                   39974\n",
       "PREMIUM APARTMENT          35607\n",
       "APARTMENT                  32204\n",
       "MAISONETTE                 27079\n",
       "MODEL A2                    9149\n",
       "MODEL A-MAISONETTE          1894\n",
       "DBSS                        1725\n",
       "ADJOINED FLAT               1096\n",
       "TERRACE                      645\n",
       "MULTI GENERATION             506\n",
       "TYPE S1                      278\n",
       "TYPE S2                      136\n",
       "IMPROVED-MAISONETTE          114\n",
       "PREMIUM MAISONETTE            82\n",
       "2-ROOM                        41\n",
       "PREMIUM APARTMENT LOFT        36\n",
       "Name: flat_model, dtype: int64"
      ]
     },
     "execution_count": 10,
     "metadata": {},
     "output_type": "execute_result"
    }
   ],
   "source": [
    "data['flat_model'].str.upper().value_counts()"
   ]
  },
  {
   "cell_type": "code",
   "execution_count": null,
   "metadata": {},
   "outputs": [],
   "source": []
  }
 ],
 "metadata": {
  "kernelspec": {
   "display_name": "Python 3",
   "language": "python",
   "name": "python3"
  },
  "language_info": {
   "codemirror_mode": {
    "name": "ipython",
    "version": 3
   },
   "file_extension": ".py",
   "mimetype": "text/x-python",
   "name": "python",
   "nbconvert_exporter": "python",
   "pygments_lexer": "ipython3",
   "version": "3.8.6"
  }
 },
 "nbformat": 4,
 "nbformat_minor": 4
}
